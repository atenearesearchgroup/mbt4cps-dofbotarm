{
 "cells": [
  {
   "cell_type": "code",
   "execution_count": 99,
   "metadata": {},
   "outputs": [
    {
     "ename": "ValueError",
     "evalue": "math domain error",
     "output_type": "error",
     "traceback": [
      "\u001b[0;31m---------------------------------------------------------------------------\u001b[0m",
      "\u001b[0;31mValueError\u001b[0m                                Traceback (most recent call last)",
      "\u001b[0;32m<ipython-input-99-4ba635c1d383>\u001b[0m in \u001b[0;36m<module>\u001b[0;34m\u001b[0m\n\u001b[1;32m     29\u001b[0m \u001b[0mAlfa\u001b[0m\u001b[0;34m=\u001b[0m\u001b[0mmath\u001b[0m\u001b[0;34m.\u001b[0m\u001b[0matan2\u001b[0m\u001b[0;34m(\u001b[0m\u001b[0mLadoA\u001b[0m\u001b[0;34m,\u001b[0m\u001b[0mLadoB\u001b[0m\u001b[0;34m)\u001b[0m\u001b[0;34m\u001b[0m\u001b[0;34m\u001b[0m\u001b[0m\n\u001b[1;32m     30\u001b[0m \u001b[0;34m\u001b[0m\u001b[0m\n\u001b[0;32m---> 31\u001b[0;31m \u001b[0mBeta\u001b[0m\u001b[0;34m=\u001b[0m \u001b[0mmath\u001b[0m\u001b[0;34m.\u001b[0m\u001b[0macos\u001b[0m\u001b[0;34m(\u001b[0m\u001b[0;34m(\u001b[0m\u001b[0;34m(\u001b[0m\u001b[0mLongBrazo\u001b[0m\u001b[0;34m**\u001b[0m\u001b[0;36m2\u001b[0m\u001b[0;34m)\u001b[0m\u001b[0;34m-\u001b[0m\u001b[0;34m(\u001b[0m\u001b[0mLongAntBr\u001b[0m\u001b[0;34m**\u001b[0m\u001b[0;36m2\u001b[0m\u001b[0;34m)\u001b[0m\u001b[0;34m+\u001b[0m\u001b[0;34m(\u001b[0m\u001b[0mHipotenusa\u001b[0m\u001b[0;34m**\u001b[0m\u001b[0;36m2\u001b[0m\u001b[0;34m)\u001b[0m\u001b[0;34m)\u001b[0m\u001b[0;34m/\u001b[0m\u001b[0;34m(\u001b[0m\u001b[0;36m2\u001b[0m\u001b[0;34m*\u001b[0m\u001b[0mLongBrazo\u001b[0m\u001b[0;34m*\u001b[0m\u001b[0mHipotenusa\u001b[0m\u001b[0;34m)\u001b[0m\u001b[0;34m)\u001b[0m\u001b[0;34m\u001b[0m\u001b[0;34m\u001b[0m\u001b[0m\n\u001b[0m\u001b[1;32m     32\u001b[0m \u001b[0;34m\u001b[0m\u001b[0m\n\u001b[1;32m     33\u001b[0m \u001b[0mAngBrazo\u001b[0m\u001b[0;34m=\u001b[0m \u001b[0mAlfa\u001b[0m\u001b[0;34m+\u001b[0m\u001b[0mBeta\u001b[0m                                    \u001b[0;31m#�NGULO BRAZO (en radianes).\u001b[0m\u001b[0;34m\u001b[0m\u001b[0;34m\u001b[0m\u001b[0m\n",
      "\u001b[0;31mValueError\u001b[0m: math domain error"
     ]
    }
   ],
   "source": [
    "import math\n",
    "\n",
    "pi   = math.atan(1)*4\n",
    "rad  = pi/180\n",
    "grad = 180/pi\n",
    "\n",
    "BaseX  = 400       #Punto X Base (hombro)  Situamos el brazo en pantalla.\n",
    "BaseY  = 300       #punto Y Base (hombro)\n",
    "\n",
    "LongBrazo  = 8.5   #Longitud Brazo.     \n",
    "LongAntBr  = 8.5   #Longitud AnteBrazo.\n",
    "LongMunec  =  18.5   #Longitud Mu�eca.\n",
    "\n",
    "x=(30)            #Posici�n Inicial X.    Damos las coordenadas iniciales de la punta del brazo.\n",
    "y=(15)     #Posici�n Inicial Y.    Se puede modificar los valores que est�n dentro del par�ntesis.\n",
    "                   #                       Procura que est� dentro del �rea de trabajo.\n",
    "Cabeceo=0          #�ngulo relativo inicial de la mu�eca. Cero grados es horizontal en este caso.\n",
    "\n",
    "\n",
    "\n",
    "Afx=math.cos(Cabeceo)*LongMunec\n",
    "LadoB=x-Afx\n",
    "\n",
    "Afy=math.sin(Cabeceo)*LongMunec\n",
    "LadoA=y-Afy\n",
    "\n",
    "Hipotenusa=math.sqrt( (LadoA**2)+(LadoB**2) )\n",
    "\n",
    "Alfa=math.atan2(LadoA,LadoB)\n",
    "\n",
    "Beta= math.acos(((LongBrazo**2)-(LongAntBr**2)+(Hipotenusa**2))/(2*LongBrazo*Hipotenusa))\n",
    "\n",
    "AngBrazo= Alfa+Beta                                    #�NGULO BRAZO (en radianes).\n",
    "print(180-(math.degrees(AngBrazo)%180))\n",
    "\n",
    "Gamma=math.acos( ((LongBrazo**2)+(LongAntBr**2)-(Hipotenusa**2))/(2*LongBrazo*LongAntBr) )\n",
    "AngAntBr=-((180*rad)-Gamma)                            #�NGULO ANTEBRAZO (en radianes).\n",
    "print(180-(math.degrees(AngAntBr)%180))\n",
    "\n",
    "AngMunec= ((rad*Cabeceo)-AngBrazo-AngAntBr)            #�NGULO MU�ECA (en radianes).\n",
    "print(180-(math.degrees(AngMunec)%180))\n",
    "\n",
    "#Xaux=x\n",
    "#Yaux=y\n",
    "#Caux=Cabeceo "
   ]
  },
  {
   "cell_type": "code",
   "execution_count": 89,
   "metadata": {},
   "outputs": [
    {
     "name": "stdout",
     "output_type": "stream",
     "text": [
      "140\n"
     ]
    }
   ],
   "source": [
    "print(-40%180)"
   ]
  },
  {
   "cell_type": "code",
   "execution_count": null,
   "metadata": {},
   "outputs": [],
   "source": []
  },
  {
   "cell_type": "code",
   "execution_count": null,
   "metadata": {},
   "outputs": [],
   "source": []
  },
  {
   "cell_type": "code",
   "execution_count": null,
   "metadata": {},
   "outputs": [],
   "source": []
  },
  {
   "cell_type": "code",
   "execution_count": null,
   "metadata": {},
   "outputs": [],
   "source": []
  },
  {
   "cell_type": "code",
   "execution_count": null,
   "metadata": {},
   "outputs": [],
   "source": []
  },
  {
   "cell_type": "code",
   "execution_count": null,
   "metadata": {},
   "outputs": [],
   "source": []
  },
  {
   "cell_type": "code",
   "execution_count": null,
   "metadata": {},
   "outputs": [],
   "source": []
  },
  {
   "cell_type": "code",
   "execution_count": null,
   "metadata": {},
   "outputs": [],
   "source": []
  },
  {
   "cell_type": "code",
   "execution_count": null,
   "metadata": {},
   "outputs": [],
   "source": []
  },
  {
   "cell_type": "code",
   "execution_count": null,
   "metadata": {},
   "outputs": [],
   "source": []
  },
  {
   "cell_type": "code",
   "execution_count": null,
   "metadata": {},
   "outputs": [],
   "source": []
  },
  {
   "cell_type": "code",
   "execution_count": null,
   "metadata": {},
   "outputs": [],
   "source": []
  },
  {
   "cell_type": "code",
   "execution_count": null,
   "metadata": {},
   "outputs": [],
   "source": []
  },
  {
   "cell_type": "code",
   "execution_count": null,
   "metadata": {},
   "outputs": [],
   "source": []
  },
  {
   "cell_type": "code",
   "execution_count": null,
   "metadata": {},
   "outputs": [],
   "source": []
  },
  {
   "cell_type": "code",
   "execution_count": 95,
   "metadata": {},
   "outputs": [
    {
     "name": "stdout",
     "output_type": "stream",
     "text": [
      "(5.463694682335584, 6.5113777665113135)\n",
      "(10.927389364671168, 13.022755533022627)\n",
      "(22.818960143872143, 27.19457773072372)\n",
      "(-1.0476830841757296, 11.975072448846898)\n",
      "(-15.219505281876822, 23.866643228047874)\n",
      "(-12.939253863376706, -2.196749748854195)\n"
     ]
    }
   ],
   "source": [
    "import math\n",
    "\n",
    "def rotate(center, point, angle):\n",
    "\n",
    "    xo, yo = point\n",
    "    xc, yc = center\n",
    "\n",
    "    x1 = ((xo-xc)*math.cos(math.radians(angle))) - ((yo-yc)*math.sin(math.radians(angle))) + xc\n",
    "    y1 = ((xo-xc)*math.sin(math.radians(angle))) + ((yo-yc)*math.cos(math.radians(angle))) + yc\n",
    "    \n",
    "    \n",
    "    return x1, y1\n",
    "\n",
    "\n",
    "\n",
    "center=(0,0)\n",
    "point=(0,8.5)\n",
    "point2=(0,17)\n",
    "point3=(0,35.5)\n",
    "\n",
    "NewPointA=rotate(center,point,-40) #The rotate function rotates it by 10 degrees\n",
    "print(NewPointA)\n",
    "\n",
    "NewPointB=rotate(center,point2,-40) #The rotate function rotates it by 10 degrees\n",
    "print(NewPointB)\n",
    "\n",
    "NewPointC=rotate(center,point3,-40) #The rotate function rotates it by 10 degrees\n",
    "print(NewPointC)\n",
    "\n",
    "\n",
    "\n",
    "\n",
    "NewPointD=rotate(NewPointA,NewPointB,90) #The rotate function rotates it by 10 degrees\n",
    "print(NewPointD)\n",
    "\n",
    "NewPointE=rotate(NewPointA,NewPointC,90) #The rotate function rotates it by 10 degrees\n",
    "print(NewPointE)\n",
    "\n",
    "\n",
    "\n",
    "\n",
    "NewPointF=rotate(NewPointD,NewPointE,90) #The rotate function rotates it by 10 degrees\n",
    "print(NewPointF)\n",
    "\n",
    "\n",
    "\n"
   ]
  },
  {
   "cell_type": "code",
   "execution_count": 141,
   "metadata": {},
   "outputs": [
    {
     "name": "stdout",
     "output_type": "stream",
     "text": [
      "0.6981317007977317\n",
      "(0.10356735996338495, 8.49936902375407)\n"
     ]
    }
   ],
   "source": [
    "import math\n",
    "\n",
    "\n",
    "def rotate(center, point, angle):\n",
    "\n",
    "    xo, yo = point\n",
    "    xc, yc = center\n",
    "\n",
    "    x1 = ((xo-xc)*math.cos(math.radians(angle))) - ((yo-yc)*math.sin(math.radians(angle))) + xc\n",
    "    y1 = ((xo-xc)*math.sin(math.radians(angle))) + ((yo-yc)*math.cos(math.radians(angle))) + yc\n",
    "    \n",
    "    \n",
    "    return x1, y1\n",
    "\n",
    "def getAngle(center, point1 ,point2):\n",
    "\n",
    "    xo, yo = point1\n",
    "    x1, y1 = point2\n",
    "    xc, yc = center\n",
    "    \n",
    "    '''\n",
    "    \n",
    "    myradians = math.atan2(yo-yc, xo-xc)\n",
    "    mydegrees = math.degrees(myradians)'''\n",
    "    \n",
    "    mydegrees = math.acos(((xo - xc) * (x1 - xc) + (yo - yc) * (y1 - yc)) / (math.sqrt((xo - xc)**2 + (yo - yc)**2) * math.sqrt((x1 - xc)**2 + (y1 - yc)**2)))\n",
    "    \n",
    "    \n",
    "    return mydegrees\n",
    "\n",
    "\n",
    "\n",
    "center=(0,0)\n",
    "point=(0,8.5)\n",
    "point2=(0,17)\n",
    "point3=(0,35.5)\n",
    "pointObj = (5.463694682335584, 6.5113777665113135)\n",
    "pointObj2 = (-1.0476830841757296, 11.975072448846898)\n",
    "pointObj3 = (-12.939253863376706, -2.196749748854195)\n",
    "\n",
    "\n",
    "\n",
    "NewAngleA=getAngle(center,point,pointObj)\n",
    "print(NewAngleA)\n",
    "\n",
    "\n",
    "NewPointA=rotate(center,point,-NewAngleA) #The rotate function rotates it by 10 degrees\n",
    "print(NewPointA)\n",
    "\n",
    "#NewPointB=rotate(center,point2,-NewAngleA) #The rotate function rotates it by 10 degrees\n",
    "#print(NewPointB)\n",
    "\n",
    "#NewPointC=rotate(center,point3,-NewAngleA) #The rotate function rotates it by 10 degrees\n",
    "#print(NewPointC)\n",
    "\n",
    "\n",
    "\n",
    "#NewAngleB=getAngle(NewPointA,pointObj2)\n",
    "#print(NewAngleB)\n",
    "\n",
    "\n"
   ]
  },
  {
   "cell_type": "code",
   "execution_count": null,
   "metadata": {},
   "outputs": [],
   "source": []
  },
  {
   "cell_type": "code",
   "execution_count": 52,
   "metadata": {},
   "outputs": [
    {
     "name": "stdout",
     "output_type": "stream",
     "text": [
      "0.6427876096865393\n"
     ]
    }
   ],
   "source": [
    "aa = math.cos(math.radians(40))\n",
    "print(aa)"
   ]
  },
  {
   "cell_type": "code",
   "execution_count": 99,
   "metadata": {},
   "outputs": [
    {
     "name": "stdout",
     "output_type": "stream",
     "text": [
      "-90.0\n"
     ]
    }
   ],
   "source": [
    "x = 0-0\n",
    "y = 0-8.5\n",
    "\n",
    "myradians = math.atan2(yo-yc, xo-xc)\n",
    "mydegrees = math.degrees(myradians)\n",
    "\n",
    "print(mydegrees)"
   ]
  },
  {
   "cell_type": "code",
   "execution_count": null,
   "metadata": {},
   "outputs": [],
   "source": []
  },
  {
   "cell_type": "code",
   "execution_count": null,
   "metadata": {},
   "outputs": [],
   "source": []
  },
  {
   "cell_type": "code",
   "execution_count": null,
   "metadata": {},
   "outputs": [],
   "source": []
  },
  {
   "cell_type": "code",
   "execution_count": null,
   "metadata": {},
   "outputs": [],
   "source": []
  },
  {
   "cell_type": "code",
   "execution_count": 1,
   "metadata": {},
   "outputs": [],
   "source": [
    "#!/usr/bin/env python3\n",
    "#coding=utf-8\n",
    "import time\n",
    "from Arm_Lib import Arm_Device\n",
    "\n",
    "Arm = Arm_Device()\n",
    "time.sleep(.1)\n"
   ]
  },
  {
   "cell_type": "code",
   "execution_count": 2,
   "metadata": {},
   "outputs": [],
   "source": [
    "Arm.idle(1500)"
   ]
  },
  {
   "cell_type": "code",
   "execution_count": 12,
   "metadata": {},
   "outputs": [],
   "source": [
    "Arm.Arm_serial_servo_write(6, 80, 500)\n",
    "Arm.Arm_serial_servo_write(4, 80, 500)\n",
    "Arm.Arm_serial_servo_write(3, 80, 500)"
   ]
  },
  {
   "cell_type": "code",
   "execution_count": 4,
   "metadata": {},
   "outputs": [
    {
     "name": "stdout",
     "output_type": "stream",
     "text": [
      " Program closed! \n"
     ]
    }
   ],
   "source": [
    "id = 6\n",
    "\n",
    "def main():\n",
    "    while True:\n",
    "        Arm.Arm_serial_servo_write(id, 0, 500)\n",
    "        time.sleep(1)\n",
    "        Arm.Arm_serial_servo_write(id, 120, 500)\n",
    "        time.sleep(1)\n",
    "        Arm.Arm_serial_servo_write(id, 0, 500)\n",
    "        time.sleep(1)\n",
    "        Arm.Arm_serial_servo_write(id, 180, 500)\n",
    "        time.sleep(1)\n",
    "\n",
    "    \n",
    "try :\n",
    "    main()\n",
    "except KeyboardInterrupt:\n",
    "    print(\" Program closed! \")\n",
    "    pass"
   ]
  },
  {
   "cell_type": "code",
   "execution_count": 3,
   "metadata": {},
   "outputs": [
    {
     "name": "stdout",
     "output_type": "stream",
     "text": [
      "Arm_serial_servo_write6 I2C error\n"
     ]
    }
   ],
   "source": [
    "Arm.greenBox(1000)"
   ]
  },
  {
   "cell_type": "code",
   "execution_count": null,
   "metadata": {},
   "outputs": [],
   "source": []
  },
  {
   "cell_type": "code",
   "execution_count": null,
   "metadata": {},
   "outputs": [],
   "source": []
  },
  {
   "cell_type": "code",
   "execution_count": null,
   "metadata": {},
   "outputs": [],
   "source": []
  },
  {
   "cell_type": "code",
   "execution_count": null,
   "metadata": {},
   "outputs": [],
   "source": []
  },
  {
   "cell_type": "code",
   "execution_count": null,
   "metadata": {},
   "outputs": [],
   "source": []
  }
 ],
 "metadata": {
  "kernelspec": {
   "display_name": "Python 3",
   "language": "python",
   "name": "python3"
  },
  "language_info": {
   "codemirror_mode": {
    "name": "ipython",
    "version": 3
   },
   "file_extension": ".py",
   "mimetype": "text/x-python",
   "name": "python",
   "nbconvert_exporter": "python",
   "pygments_lexer": "ipython3",
   "version": "3.8.5"
  }
 },
 "nbformat": 4,
 "nbformat_minor": 4
}

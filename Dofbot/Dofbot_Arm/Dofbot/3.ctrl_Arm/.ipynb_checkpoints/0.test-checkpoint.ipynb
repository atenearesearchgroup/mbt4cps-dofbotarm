{
 "cells": [
  {
   "cell_type": "code",
   "execution_count": 1,
   "metadata": {},
   "outputs": [],
   "source": [
    "#!/usr/bin/env python3\n",
    "#coding=utf-8\n",
    "import time\n",
    "from Arm_Lib import Arm_Device\n",
    "\n",
    "Arm = Arm_Device()\n",
    "time.sleep(.1)\n",
    "Arm.Arm_serial_servo_write6(90, 90, 50, 90, 90, 90, 1500)\n"
   ]
  },
  {
   "cell_type": "code",
   "execution_count": 2,
   "metadata": {},
   "outputs": [],
   "source": [
    "# Robot arm up down left right\n",
    "def main():\n",
    "\n",
    "    Arm.cajaVerde(1500)\n",
    "\n",
    "\n",
    "try :\n",
    "    main()\n",
    "except KeyboardInterrupt:\n",
    "    print(\" Program closed! \")\n",
    "    pass"
   ]
  },
  {
   "cell_type": "code",
   "execution_count": 2,
   "metadata": {},
   "outputs": [],
   "source": [
    "# Robot arm up down left right\n",
    "def main():\n",
    "\n",
    "    Arm.idle(1500)\n",
    "    time.sleep(1.5)\n",
    "    Arm.ready(1500)\n",
    "    time.sleep(1.5)\n",
    "    Arm.mov1(1500)\n",
    "    time.sleep(1.5)\n",
    "    Arm.mov2(1500)\n",
    "    time.sleep(1.5)\n",
    "    Arm.grabbed(1500)\n",
    "    time.sleep(1.5)\n",
    "    Arm.mov4(1500)\n",
    "    time.sleep(1.5)\n",
    "    Arm.mov5(1500)\n",
    "    time.sleep(1.5)\n",
    "    Arm.idle(1500)\n",
    "    time.sleep(1.5)\n",
    "\n",
    "\n",
    "try :\n",
    "    main()\n",
    "except KeyboardInterrupt:\n",
    "    print(\" Program closed! \")\n",
    "    pass"
   ]
  },
  {
   "cell_type": "code",
   "execution_count": null,
   "metadata": {},
   "outputs": [],
   "source": []
  },
  {
   "cell_type": "code",
   "execution_count": 3,
   "metadata": {},
   "outputs": [],
   "source": [
    "# enable=1: clamp,=0: release\n",
    "def arm_clamp_block(enable):\n",
    "    if enable == 0:\n",
    "        Arm.Arm_serial_servo_write(6, 60, 400)\n",
    "    else:\n",
    "        Arm.Arm_serial_servo_write(6, 135, 400)\n",
    "    time.sleep(.5)\n",
    "\n",
    "    \n",
    "# Define control DOFBOT function, control No.1-No.5 servo，p=[S1,S2,S3,S4,S5]\n",
    "def arm_move(p, s_time = 500):\n",
    "    for i in range(5):\n",
    "        id = i + 1\n",
    "        if id == 5:\n",
    "            time.sleep(.1)\n",
    "            Arm.Arm_serial_servo_write(id, p[i], int(s_time*1.2))\n",
    "        else :\n",
    "            Arm.Arm_serial_servo_write(id, p[i], s_time)\n",
    "        time.sleep(.01)\n",
    "    time.sleep(s_time/1000)\n",
    "\n",
    "# DOFBOT moves up\n",
    "def arm_move_up():\n",
    "    Arm.Arm_serial_servo_write(2, 90, 1500)\n",
    "    Arm.Arm_serial_servo_write(3, 90, 1500)\n",
    "    Arm.Arm_serial_servo_write(4, 90, 1500)\n",
    "    time.sleep(.1)"
   ]
  },
  {
   "cell_type": "code",
   "execution_count": 4,
   "metadata": {},
   "outputs": [],
   "source": [
    "# Define variable parameters at different locations\n",
    "p_mould = [90, 130, 0, 0, 90]\n",
    "\n",
    "p_top = [90, 80, 50, 50, 270]\n",
    "\n",
    "p_Green = [136, 57, 30, 20, 270]\n",
    "\n",
    "p_layer_1 = [90, 53, 33, 36, 270]\n"
   ]
  },
  {
   "cell_type": "code",
   "execution_count": 5,
   "metadata": {},
   "outputs": [],
   "source": [
    "# Make the DOFBOT move to a position ready to grab\n",
    "arm_clamp_block(0)\n",
    "arm_move(p_mould, 1000)\n",
    "time.sleep(1)"
   ]
  },
  {
   "cell_type": "code",
   "execution_count": 6,
   "metadata": {},
   "outputs": [],
   "source": [
    "# Move the 2nd floor blocks to the green area\n",
    "arm_move(p_top, 1000)\n",
    "arm_move(p_layer_1, 1000)\n",
    "arm_clamp_block(1)\n",
    "\n",
    "arm_move(p_top, 1000)\n",
    "arm_move(p_Green, 1000)\n",
    "arm_clamp_block(0)\n",
    "\n",
    "time.sleep(.1)\n",
    "\n",
    "arm_move_up()\n",
    "arm_move(p_mould, 1100)\n",
    "    \n",
    "# time.sleep(1)\n"
   ]
  },
  {
   "cell_type": "code",
   "execution_count": null,
   "metadata": {},
   "outputs": [],
   "source": []
  },
  {
   "cell_type": "code",
   "execution_count": null,
   "metadata": {},
   "outputs": [],
   "source": []
  },
  {
   "cell_type": "code",
   "execution_count": null,
   "metadata": {},
   "outputs": [],
   "source": []
  },
  {
   "cell_type": "code",
   "execution_count": null,
   "metadata": {},
   "outputs": [],
   "source": []
  },
  {
   "cell_type": "code",
   "execution_count": null,
   "metadata": {},
   "outputs": [],
   "source": []
  },
  {
   "cell_type": "code",
   "execution_count": 6,
   "metadata": {},
   "outputs": [],
   "source": [
    "del Arm  #Release the Arm object"
   ]
  },
  {
   "cell_type": "code",
   "execution_count": null,
   "metadata": {},
   "outputs": [],
   "source": []
  }
 ],
 "metadata": {
  "kernelspec": {
   "display_name": "Python 3",
   "language": "python",
   "name": "python3"
  },
  "language_info": {
   "codemirror_mode": {
    "name": "ipython",
    "version": 3
   },
   "file_extension": ".py",
   "mimetype": "text/x-python",
   "name": "python",
   "nbconvert_exporter": "python",
   "pygments_lexer": "ipython3",
   "version": "3.8.5"
  }
 },
 "nbformat": 4,
 "nbformat_minor": 4
}

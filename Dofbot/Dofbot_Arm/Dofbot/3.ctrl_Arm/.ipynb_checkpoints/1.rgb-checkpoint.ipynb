{
 "cells": [
  {
   "cell_type": "markdown",
   "metadata": {},
   "source": [
    "## Make RGB lights on the extension board of the robotic arm to become red, green, and blue."
   ]
  },
  {
   "cell_type": "code",
   "execution_count": null,
   "metadata": {},
   "outputs": [],
   "source": [
    "#!/usr/bin/env python3\n",
    "#coding=utf-8\n",
    "import time\n",
    "from Arm_Lib import Arm_Device\n",
    "\n",
    "Arm = Arm_Device()\n",
    "time.sleep(.1)\n",
    "\n",
    "def main():\n",
    "    while True:\n",
    "        Arm.Arm_RGB_set(50, 0, 0) #red\n",
    "        time.sleep(.5)\n",
    "        Arm.Arm_RGB_set(0, 50, 0) #green\n",
    "        time.sleep(.5)\n",
    "        Arm.Arm_RGB_set(0, 0, 50) #blue\n",
    "        time.sleep(.5)\n",
    "\n",
    "        print(\" END OF LINE! \")\n",
    "\n",
    "try :\n",
    "    main()\n",
    "except KeyboardInterrupt:\n",
    "\n",
    "    del Arm\n",
    "    print(\" Program closed! \")\n",
    "    pass\n"
   ]
  },
  {
   "cell_type": "code",
   "execution_count": null,
   "metadata": {},
   "outputs": [],
   "source": []
  }
 ],
 "metadata": {
  "kernelspec": {
   "display_name": "Python 3",
   "language": "python",
   "name": "python3"
  },
  "language_info": {
   "codemirror_mode": {
    "name": "ipython",
    "version": 3
   },
   "file_extension": ".py",
   "mimetype": "text/x-python",
   "name": "python",
   "nbconvert_exporter": "python",
   "pygments_lexer": "ipython3",
   "version": "3.8.5"
  }
 },
 "nbformat": 4,
 "nbformat_minor": 4
}

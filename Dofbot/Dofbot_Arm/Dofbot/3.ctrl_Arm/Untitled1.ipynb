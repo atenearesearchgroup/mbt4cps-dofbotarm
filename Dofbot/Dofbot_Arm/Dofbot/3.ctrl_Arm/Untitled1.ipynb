{
 "cells": [
  {
   "cell_type": "code",
   "execution_count": 2,
   "metadata": {},
   "outputs": [
    {
     "name": "stdout",
     "output_type": "stream",
     "text": [
      "(22.818960143872143, 27.19457773072372)\n",
      "(-15.219505281876822, 23.866643228047874)\n",
      "(-12.939253863376706, -2.196749748854195)\n"
     ]
    }
   ],
   "source": [
    "import math\n",
    "\n",
    "def rotate(center, point, angle):\n",
    "\n",
    "    xo, yo = point\n",
    "    xc, yc = center\n",
    "\n",
    "    x1 = ((xo-xc)*math.cos(math.radians(angle))) - ((yo-yc)*math.sin(math.radians(angle))) + xc\n",
    "    y1 = ((xo-xc)*math.sin(math.radians(angle))) + ((yo-yc)*math.cos(math.radians(angle))) + yc\n",
    "    \n",
    "    \n",
    "    return x1, y1\n",
    "\n",
    "\n",
    "\n",
    "center=(0,0)\n",
    "point=(0,8.5)\n",
    "point2=(0,17)\n",
    "point3=(0,35.5)\n",
    "\n",
    "NewPointA=rotate(center,point,-40) #The rotate function rotates it by 10 degrees\n",
    "\n",
    "NewPointB=rotate(center,point2,-40) #The rotate function rotates it by 10 degrees\n",
    "\n",
    "NewPointC=rotate(center,point3,-40) #The rotate function rotates it by 10 degrees\n",
    "print(NewPointC)\n",
    "\n",
    "\n",
    "\n",
    "\n",
    "NewPointD=rotate(NewPointA,NewPointB,90) #The rotate function rotates it by 10 degrees\n",
    "\n",
    "NewPointE=rotate(NewPointA,NewPointC,90) #The rotate function rotates it by 10 degrees\n",
    "print(NewPointE)\n",
    "\n",
    "\n",
    "\n",
    "\n",
    "NewPointF=rotate(NewPointD,NewPointE,90) #The rotate function rotates it by 10 degrees\n",
    "print(NewPointF)\n",
    "\n",
    "\n",
    "\n"
   ]
  },
  {
   "cell_type": "code",
   "execution_count": null,
   "metadata": {},
   "outputs": [],
   "source": []
  }
 ],
 "metadata": {
  "kernelspec": {
   "display_name": "Python 3",
   "language": "python",
   "name": "python3"
  },
  "language_info": {
   "codemirror_mode": {
    "name": "ipython",
    "version": 3
   },
   "file_extension": ".py",
   "mimetype": "text/x-python",
   "name": "python",
   "nbconvert_exporter": "python",
   "pygments_lexer": "ipython3",
   "version": "3.8.5"
  }
 },
 "nbformat": 4,
 "nbformat_minor": 4
}

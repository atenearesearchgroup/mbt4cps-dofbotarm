{
 "cells": [
  {
   "cell_type": "code",
   "execution_count": 1,
   "metadata": {},
   "outputs": [],
   "source": [
    "#!/usr/bin/env python3\n",
    "#coding=utf-8\n",
    "import time\n",
    "from Arm_Lib import Arm_Device\n",
    "\n",
    "Arm = Arm_Device()\n",
    "time.sleep(.1)\n",
    "#Codigo para cartulina\n",
    "#Arm.Arm_serial_servo_write6(90, 90, 90, 90, 90, 180, 2000)\n",
    "#Arm.Arm_serial_servo_write6(0, 0, 90, 90, 90, 180, 2000)\n",
    "#Arm.Arm_serial_servo_write6(180, 0, 90, 90, 90, 180, 2000)\n",
    "\n",
    "#Arm.Arm_serial_servo_write6(90, 90, 90, 90, 90, 180, 2000)\n"
   ]
  },
  {
   "cell_type": "code",
   "execution_count": 4,
   "metadata": {},
   "outputs": [],
   "source": [
    "Arm.Arm_serial_servo_write6(117, 28, 60, 52, 268, 0, 2000)\n",
    "time.sleep(2)"
   ]
  },
  {
   "cell_type": "code",
   "execution_count": 3,
   "metadata": {},
   "outputs": [
    {
     "name": "stdout",
     "output_type": "stream",
     "text": [
      "89\n",
      "130\n",
      "0\n",
      "1\n",
      "269\n",
      "61\n",
      " END OF LINE! \n",
      "89\n",
      "130\n",
      "0\n",
      "1\n",
      "269\n",
      "61\n",
      " END OF LINE! \n",
      "89\n",
      "130\n",
      "0\n",
      "1\n",
      "269\n",
      "61\n",
      " END OF LINE! \n",
      "89\n",
      "130\n",
      "0\n",
      "1\n",
      "269\n",
      "61\n",
      " Program closed! \n"
     ]
    }
   ],
   "source": [
    "# Read the angle of all servos and print it out\n",
    "def main():\n",
    "    while True:\n",
    "        for i in range(6):\n",
    "            aa = Arm.Arm_serial_servo_read(i+1)\n",
    "            print(aa)\n",
    "            time.sleep(.01)\n",
    "        time.sleep(.5)\n",
    "        print(\" END OF LINE! \")\n",
    "\n",
    "    \n",
    "try :\n",
    "    main()\n",
    "except KeyboardInterrupt:\n",
    "    print(\" Program closed! \")\n",
    "    pass\n"
   ]
  },
  {
   "cell_type": "code",
   "execution_count": 7,
   "metadata": {},
   "outputs": [
    {
     "ename": "KeyboardInterrupt",
     "evalue": "",
     "output_type": "error",
     "traceback": [
      "\u001b[0;31m---------------------------------------------------------------------------\u001b[0m",
      "\u001b[0;31mKeyboardInterrupt\u001b[0m                         Traceback (most recent call last)",
      "\u001b[0;32m<ipython-input-7-29790550a9e9>\u001b[0m in \u001b[0;36m<module>\u001b[0;34m\u001b[0m\n\u001b[1;32m      4\u001b[0m \u001b[0;34m\u001b[0m\u001b[0m\n\u001b[1;32m      5\u001b[0m \u001b[0mArm\u001b[0m\u001b[0;34m.\u001b[0m\u001b[0mArm_serial_servo_write\u001b[0m\u001b[0;34m(\u001b[0m\u001b[0mid\u001b[0m\u001b[0;34m,\u001b[0m \u001b[0mangle\u001b[0m\u001b[0;34m,\u001b[0m \u001b[0;36m500\u001b[0m\u001b[0;34m)\u001b[0m\u001b[0;34m\u001b[0m\u001b[0;34m\u001b[0m\u001b[0m\n\u001b[0;32m----> 6\u001b[0;31m \u001b[0mtime\u001b[0m\u001b[0;34m.\u001b[0m\u001b[0msleep\u001b[0m\u001b[0;34m(\u001b[0m\u001b[0;36m1\u001b[0m\u001b[0;34m)\u001b[0m\u001b[0;34m\u001b[0m\u001b[0;34m\u001b[0m\u001b[0m\n\u001b[0m\u001b[1;32m      7\u001b[0m \u001b[0;34m\u001b[0m\u001b[0m\n\u001b[1;32m      8\u001b[0m \u001b[0maa\u001b[0m \u001b[0;34m=\u001b[0m \u001b[0mArm\u001b[0m\u001b[0;34m.\u001b[0m\u001b[0mArm_serial_servo_read\u001b[0m\u001b[0;34m(\u001b[0m\u001b[0mid\u001b[0m\u001b[0;34m)\u001b[0m\u001b[0;34m\u001b[0m\u001b[0;34m\u001b[0m\u001b[0m\n",
      "\u001b[0;31mKeyboardInterrupt\u001b[0m: "
     ]
    }
   ],
   "source": [
    "# After controlling the movement of a servo, Then, read its angle\n",
    "id = 6\n",
    "angle = 150\n",
    "\n",
    "Arm.Arm_serial_servo_write(id, angle, 500)\n",
    "time.sleep(1)\n",
    "\n",
    "aa = Arm.Arm_serial_servo_read(id)\n",
    "print(aa)\n",
    "\n",
    "time.sleep(.5)\n"
   ]
  },
  {
   "cell_type": "code",
   "execution_count": 4,
   "metadata": {},
   "outputs": [],
   "source": [
    "del Arm  # Release"
   ]
  },
  {
   "cell_type": "code",
   "execution_count": null,
   "metadata": {},
   "outputs": [],
   "source": []
  }
 ],
 "metadata": {
  "kernelspec": {
   "display_name": "Python 3",
   "language": "python",
   "name": "python3"
  },
  "language_info": {
   "codemirror_mode": {
    "name": "ipython",
    "version": 3
   },
   "file_extension": ".py",
   "mimetype": "text/x-python",
   "name": "python",
   "nbconvert_exporter": "python",
   "pygments_lexer": "ipython3",
   "version": "3.8.10"
  }
 },
 "nbformat": 4,
 "nbformat_minor": 4
}

{
 "cells": [
  {
   "cell_type": "code",
   "execution_count": 11,
   "metadata": {},
   "outputs": [],
   "source": [
    "#!/usr/bin/env python3\n",
    "#coding=utf-8\n",
    "import time\n",
    "from Arm_Lib import Arm_Device\n",
    "\n",
    "Arm = Arm_Device()\n",
    "time.sleep(.1)\n",
    "#Codigo para cartulina\n",
    "#Arm.Arm_serial_servo_write6(90, 90, 90, 90, 90, 180, 2000)\n",
    "#Arm.Arm_serial_servo_write6(0, 0, 90, 90, 90, 180, 2000)\n",
    "#Arm.Arm_serial_servo_write6(180, 0, 90, 90, 90, 180, 2000)\n",
    "\n",
    "#Arm.Arm_serial_servo_write6(90, 90, 90, 90, 90, 180, 2000)\n"
   ]
  },
  {
   "cell_type": "code",
   "execution_count": 12,
   "metadata": {},
   "outputs": [
    {
     "name": "stdout",
     "output_type": "stream",
     "text": [
      "89\n",
      "90\n",
      "90\n",
      "90\n",
      "90\n",
      "169\n",
      " END OF LINE! \n",
      "89\n",
      "90\n",
      "90\n",
      "90\n",
      "90\n",
      "169\n",
      " END OF LINE! \n",
      "89\n",
      "90\n",
      "90\n",
      "90\n",
      "90\n",
      "169\n",
      " END OF LINE! \n",
      "89\n",
      "90\n",
      " Program closed! \n"
     ]
    }
   ],
   "source": [
    "# Read the angle of all servos and print it out\n",
    "def main():\n",
    "\n",
    "    while True:\n",
    "        for i in range(6):\n",
    "            aa = Arm.Arm_serial_servo_read(i+1)\n",
    "            print(aa)\n",
    "            time.sleep(.01)\n",
    "        time.sleep(.5)\n",
    "        print(\" END OF LINE! \")\n",
    "\n",
    "    \n",
    "try :\n",
    "    main()\n",
    "except KeyboardInterrupt:\n",
    "    print(\" Program closed! \")\n",
    "    pass\n"
   ]
  },
  {
   "cell_type": "code",
   "execution_count": 3,
   "metadata": {},
   "outputs": [
    {
     "name": "stdout",
     "output_type": "stream",
     "text": [
      "148\n"
     ]
    }
   ],
   "source": [
    "# After controlling the movement of a servo, Then, read its angle\n",
    "id = 6\n",
    "angle = 150\n",
    "\n",
    "Arm.Arm_serial_servo_write(id, angle, 500)\n",
    "time.sleep(1)\n",
    "\n",
    "aa = Arm.Arm_serial_servo_read(id)\n",
    "print(aa)\n",
    "\n",
    "time.sleep(.5)\n"
   ]
  },
  {
   "cell_type": "code",
   "execution_count": 4,
   "metadata": {},
   "outputs": [],
   "source": [
    "del Arm  # Release"
   ]
  },
  {
   "cell_type": "code",
   "execution_count": null,
   "metadata": {},
   "outputs": [],
   "source": []
  }
 ],
 "metadata": {
  "kernelspec": {
   "display_name": "Python 3",
   "language": "python",
   "name": "python3"
  },
  "language_info": {
   "codemirror_mode": {
    "name": "ipython",
    "version": 3
   },
   "file_extension": ".py",
   "mimetype": "text/x-python",
   "name": "python",
   "nbconvert_exporter": "python",
   "pygments_lexer": "ipython3",
   "version": "3.8.5"
  }
 },
 "nbformat": 4,
 "nbformat_minor": 4
}

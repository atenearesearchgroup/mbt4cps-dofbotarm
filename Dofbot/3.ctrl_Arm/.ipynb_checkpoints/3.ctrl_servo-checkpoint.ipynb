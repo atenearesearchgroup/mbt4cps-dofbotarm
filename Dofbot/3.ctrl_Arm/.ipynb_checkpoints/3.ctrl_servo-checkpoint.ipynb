{
 "cells": [
  {
   "cell_type": "code",
   "execution_count": 5,
   "metadata": {},
   "outputs": [],
   "source": [
    "#!/usr/bin/env python3\n",
    "#coding=utf-8\n",
    "import time\n",
    "from Arm_Lib import Arm_Device\n",
    "\n",
    "Arm = Arm_Device()\n",
    "time.sleep(.1)\n",
    "Arm.Arm_serial_servo_write6(90, 90, 90, 90, 90, 90, 1000)\n"
   ]
  },
  {
   "cell_type": "code",
   "execution_count": null,
   "metadata": {},
   "outputs": [],
   "source": [
    "# Control a servo separately\n",
    "id = 6\n",
    "\n",
    "Arm.Arm_serial_servo_write(id, 120, 500)\n",
    "time.sleep(1)\n",
    "Arm.Arm_serial_servo_write6(90, 90, 90, 90, 90, 90, 500)\n"
   ]
  },
  {
   "cell_type": "code",
   "execution_count": 3,
   "metadata": {},
   "outputs": [
    {
     "name": "stdout",
     "output_type": "stream",
     "text": [
      " Program closed! \n"
     ]
    }
   ],
   "source": [
    "# Control a servo  switch in loop\n",
    "id = 6\n",
    "\n",
    "def main():\n",
    "    while True:\n",
    "        Arm.Arm_serial_servo_write(id, 120, 500)\n",
    "        time.sleep(1)\n",
    "        Arm.Arm_serial_servo_write(id, 50, 500)\n",
    "        time.sleep(1)\n",
    "        Arm.Arm_serial_servo_write(id, 120, 500)\n",
    "        time.sleep(1)\n",
    "        Arm.Arm_serial_servo_write(id, 180, 500)\n",
    "        time.sleep(1)\n",
    "\n",
    "    \n",
    "try :\n",
    "    main()\n",
    "except KeyboardInterrupt:\n",
    "    print(\" Program closed! \")\n",
    "    pass"
   ]
  },
  {
   "cell_type": "code",
   "execution_count": null,
   "metadata": {},
   "outputs": [],
   "source": [
    "del Arm  # Release"
   ]
  },
  {
   "cell_type": "code",
   "execution_count": null,
   "metadata": {},
   "outputs": [],
   "source": []
  }
 ],
 "metadata": {
  "kernelspec": {
   "display_name": "Python 3",
   "language": "python",
   "name": "python3"
  },
  "language_info": {
   "codemirror_mode": {
    "name": "ipython",
    "version": 3
   },
   "file_extension": ".py",
   "mimetype": "text/x-python",
   "name": "python",
   "nbconvert_exporter": "python",
   "pygments_lexer": "ipython3",
   "version": "3.8.5"
  }
 },
 "nbformat": 4,
 "nbformat_minor": 4
}

{
 "cells": [
  {
   "cell_type": "code",
   "execution_count": 1,
   "metadata": {},
   "outputs": [],
   "source": [
    "#bgr8 to jpeg format\n",
    "import enum\n",
    "import cv2\n",
    "import traitlets\n",
    "import ipywidgets.widgets as widgets\n",
    "import time\n",
    "import numpy as np\n",
    "\n",
    "import threading\n",
    "import inspect\n",
    "import ctypes\n",
    "\n",
    "from Arm_Lib import Arm_Device\n",
    "\n",
    "Arm = Arm_Device()\n",
    "\n"
   ]
  },
  {
   "cell_type": "code",
   "execution_count": 2,
   "metadata": {},
   "outputs": [],
   "source": [
    "#Release the operation when it ends\n",
    "def _async_raise(tid, exctype):\n",
    "    \"\"\"raises the exception, performs cleanup if needed\"\"\"\n",
    "    tid = ctypes.c_long(tid)\n",
    "    if not inspect.isclass(exctype):\n",
    "        exctype = type(exctype)\n",
    "    res = ctypes.pythonapi.PyThreadState_SetAsyncExc(tid, ctypes.py_object(exctype))\n",
    "    if res == 0:\n",
    "        raise ValueError(\"invalid thread id\")\n",
    "    elif res != 1:\n",
    "\n",
    "        ctypes.pythonapi.PyThreadState_SetAsyncExc(tid, None)\n",
    "        \n",
    "def stop_thread(thread):\n",
    "    _async_raise(thread.ident, SystemExit)"
   ]
  },
  {
   "cell_type": "code",
   "execution_count": 3,
   "metadata": {},
   "outputs": [],
   "source": [
    "#Parameters of calibration with the information of the colors to recognise\n",
    "def get_color(img):\n",
    "    H = [];S = [];V = []\n",
    "    img = cv2.resize(img, (640, 480), )\n",
    "    color_name={}\n",
    "\n",
    "    HSV = cv2.cvtColor(img, cv2.COLOR_BGR2HSV)\n",
    "\n",
    "    cv2.rectangle(img, (290, 280), (350, 340), (0, 255, 0), 2)\n",
    "\n",
    "    for i in range(290, 350):\n",
    "        for j in range(280, 340):\n",
    "            H.append(HSV[j, i][0])\n",
    "            S.append(HSV[j, i][1])\n",
    "            V.append(HSV[j, i][2])\n",
    "\n",
    "    H_min = min(H);H_max = max(H)\n",
    "    S_min = min(S);S_max = max(S)\n",
    "    V_min = min(V);V_max = max(V)\n",
    "    \n",
    "    #print(H_min,S_min,V_min,H_max,S_max,V_max)\n",
    "    \n",
    "    if H_min >= 0 and S_min >= 200 and V_min >= 190 and H_max <= 179 and S_max <= 248 and V_max <= 224 : color_name['name'] = 'red'\n",
    "    elif H_min >= 57 and S_min >= 124 and V_min >= 64 and H_max <= 80 and S_max <= 215 and V_max <= 92 : color_name['name'] = 'green'\n",
    "    elif H_min >= 108 and S_min >= 210 and V_min >= 97 and H_max <= 117 and S_max <= 255 and V_max <= 135 : color_name['name'] = 'blue'\n",
    "    elif H_min >= 22 and S_min >= 159 and V_min >= 216 and H_max <= 26 and S_max <= 247 and V_max <= 250 : color_name['name'] = 'yellow'\n",
    "    \n",
    "    return img, color_name"
   ]
  },
  {
   "cell_type": "code",
   "execution_count": 4,
   "metadata": {},
   "outputs": [],
   "source": [
    "# Define variable parameters at different locations\n",
    "ready = [90, 120, 5, 0, 90, 30] #Cambiar nombre a Ready\n",
    "p_top_catch = [90, 80, 50, 50, 270, 135]\n",
    "p_top_free = [90, 80, 50, 50, 270, 60]\n",
    "\n",
    "p_Yellow = [65, 22, 64, 56, 270, 135]\n",
    "p_Red = [118, 19, 66, 56, 270, 135]\n",
    "p_Green = [136, 66, 20, 29, 270, 135]\n",
    "p_Blue = [44, 66, 20, 28, 270, 135]\n",
    "\n",
    "p_gray = [90, 48, 35, 35, 270, 60]"
   ]
  },
  {
   "cell_type": "code",
   "execution_count": 5,
   "metadata": {},
   "outputs": [],
   "source": [
    "global g_state_arm\n",
    "g_state_arm = 0\n",
    "\n",
    "def ctrl_arm_move(index):\n",
    "    if index == 1:\n",
    "        time.sleep(.5)\n",
    "        number_action(index)\n",
    "        \n",
    "    elif index == 2:\n",
    "        time.sleep(.5)\n",
    "        number_action(index)\n",
    "        \n",
    "    elif index == 3:\n",
    "        time.sleep(.5)\n",
    "        number_action(index)\n",
    "        \n",
    "    elif index == 4:\n",
    "        time.sleep(.5)\n",
    "        number_action(index)\n",
    "    \n",
    "    global g_state_arm\n",
    "    g_state_arm = 0\n"
   ]
  },
  {
   "cell_type": "code",
   "execution_count": 6,
   "metadata": {},
   "outputs": [],
   "source": [
    "#Digital function definition\n",
    "def number_action(index):\n",
    "    if index == 1:\n",
    "        # Grab the yellow block\n",
    "        Arm.Arm_serial_servo_write6_array(p_top_free, 1000)\n",
    "        time.sleep(1)\n",
    "        Arm.Arm_serial_servo_write6_array(p_gray, 1000)\n",
    "        time.sleep(1)\n",
    "        Arm.Arm_serial_servo_write(6, 135, 1000)\n",
    "        time.sleep(1)\n",
    "        Arm.Arm_serial_servo_write6_array(p_top_catch, 1000)\n",
    "        time.sleep(1)\n",
    "        Arm.Arm_serial_servo_write6_array(p_Yellow, 1000)\n",
    "        time.sleep(1.2)\n",
    "        Arm.Arm_serial_servo_write(6, 60, 1000)\n",
    "        time.sleep(1) \n",
    "        Arm.Arm_serial_servo_write6_array(ready, 1000)\n",
    "        time.sleep(1)\n",
    "        \n",
    "    elif index == 2:\n",
    "        # Grab the red block\n",
    "        Arm.Arm_serial_servo_write6_array(p_top_free, 1000)\n",
    "        time.sleep(1)\n",
    "        Arm.Arm_serial_servo_write6_array(p_gray, 1000)\n",
    "        time.sleep(1)\n",
    "        Arm.Arm_serial_servo_write(6, 135, 1000)\n",
    "        time.sleep(1)\n",
    "        Arm.Arm_serial_servo_write6_array(p_top_catch, 1000)\n",
    "        time.sleep(1)\n",
    "        Arm.Arm_serial_servo_write6_array(p_Red, 1000)\n",
    "        time.sleep(1.2)\n",
    "        Arm.Arm_serial_servo_write(6, 60, 1000)\n",
    "        time.sleep(1) \n",
    "        Arm.Arm_serial_servo_write6_array(ready, 1000)\n",
    "        time.sleep(1)\n",
    "        \n",
    "    elif index == 3:\n",
    "        # Grab the green block\n",
    "        Arm.Arm_serial_servo_write6_array(p_top_free, 1000)\n",
    "        time.sleep(1)\n",
    "        Arm.Arm_serial_servo_write6_array(p_gray, 1000)\n",
    "        time.sleep(1)\n",
    "        Arm.Arm_serial_servo_write(6, 135, 1000)\n",
    "        time.sleep(1)\n",
    "        Arm.Arm_serial_servo_write6_array(p_top_catch, 1000)\n",
    "        time.sleep(1)\n",
    "        Arm.Arm_serial_servo_write6_array(p_Green, 1000)\n",
    "        time.sleep(1.2)\n",
    "        Arm.Arm_serial_servo_write(6, 60, 1000)\n",
    "        time.sleep(1) \n",
    "        Arm.Arm_serial_servo_write6_array(ready, 1000)\n",
    "        time.sleep(1)\n",
    "        \n",
    "    elif index == 4:\n",
    "        # Grab the blue block\n",
    "        Arm.Arm_serial_servo_write6_array(p_top_free, 1000)\n",
    "        time.sleep(1)\n",
    "        Arm.Arm_serial_servo_write6_array(p_gray, 1000)\n",
    "        time.sleep(1)\n",
    "        Arm.Arm_serial_servo_write(6, 135, 1000)\n",
    "        time.sleep(1)\n",
    "        Arm.Arm_serial_servo_write6_array(p_top_catch, 1000)\n",
    "        time.sleep(1)\n",
    "        Arm.Arm_serial_servo_write6_array(p_Blue, 1000)\n",
    "        time.sleep(1.2)\n",
    "        Arm.Arm_serial_servo_write(6, 60, 1000)\n",
    "        time.sleep(1) \n",
    "        Arm.Arm_serial_servo_write6_array(ready, 1000)\n",
    "        time.sleep(1)\n",
    "\n"
   ]
  },
  {
   "cell_type": "code",
   "execution_count": 7,
   "metadata": {},
   "outputs": [],
   "source": [
    "def start_move_arm(index):\n",
    "\n",
    "    global g_state_arm\n",
    "    if g_state_arm == 0:\n",
    "        closeTid = threading.Thread(target = ctrl_arm_move, args = [index])\n",
    "        closeTid.setDaemon(True)\n",
    "        closeTid.start()\n",
    "        \n",
    "        g_state_arm = 1"
   ]
  },
  {
   "cell_type": "code",
   "execution_count": 8,
   "metadata": {},
   "outputs": [],
   "source": [
    "\n",
    "\n",
    "\n",
    "cap = cv2.VideoCapture(0)\n",
    "cap.set(3, 640)\n",
    "cap.set(4, 480)\n",
    "cap.set(5, 30)  #set frame\n",
    "cap.set(cv2.CAP_PROP_FOURCC, cv2.VideoWriter.fourcc('M', 'J', 'P', 'G'))\n",
    "\n",
    "\n",
    "\n",
    "def Color_Recongnize():\n",
    "    \n",
    "    while(1):\n",
    "        ret, frame = cap.read()\n",
    "        frame, color_name = get_color(frame)\n",
    "        if len(color_name)==1:\n",
    "            if color_name['name'] == 'yellow':\n",
    "                start_move_arm(1)\n",
    "            elif color_name['name'] == 'red':\n",
    "                start_move_arm(2)\n",
    "            elif  color_name['name'] == 'green':\n",
    "                start_move_arm(3)\n",
    "            elif color_name['name'] == 'blue':\n",
    "                start_move_arm(4)\n",
    "\n",
    "        time.sleep(0.01)\n",
    "\n",
    "    cap.release()\n"
   ]
  },
  {
   "cell_type": "code",
   "execution_count": 9,
   "metadata": {},
   "outputs": [],
   "source": [
    "thread1 = threading.Thread(target=Color_Recongnize)\n",
    "thread1.setDaemon(True)\n",
    "thread1.start()"
   ]
  },
  {
   "cell_type": "code",
   "execution_count": 10,
   "metadata": {},
   "outputs": [
    {
     "name": "stdout",
     "output_type": "stream",
     "text": [
      " Program closed! \n"
     ]
    }
   ],
   "source": [
    "Arm.Arm_serial_servo_write6_array(ready, 1000)\n",
    "time.sleep(1)\n",
    "\n",
    "try:\n",
    "    while True:\n",
    "        time.sleep(.000001)\n",
    "except KeyboardInterrupt:\n",
    "    print(\" Program closed! \")\n",
    "    pass\n"
   ]
  },
  {
   "cell_type": "code",
   "execution_count": 11,
   "metadata": {},
   "outputs": [],
   "source": [
    "#release\n",
    "stop_thread(thread1)\n",
    "cap.release()  "
   ]
  },
  {
   "cell_type": "code",
   "execution_count": null,
   "metadata": {},
   "outputs": [],
   "source": []
  },
  {
   "cell_type": "code",
   "execution_count": null,
   "metadata": {},
   "outputs": [],
   "source": []
  },
  {
   "cell_type": "code",
   "execution_count": null,
   "metadata": {},
   "outputs": [],
   "source": []
  },
  {
   "cell_type": "code",
   "execution_count": null,
   "metadata": {},
   "outputs": [],
   "source": []
  },
  {
   "cell_type": "code",
   "execution_count": null,
   "metadata": {},
   "outputs": [],
   "source": []
  },
  {
   "cell_type": "code",
   "execution_count": null,
   "metadata": {},
   "outputs": [],
   "source": []
  },
  {
   "cell_type": "code",
   "execution_count": null,
   "metadata": {},
   "outputs": [],
   "source": []
  },
  {
   "cell_type": "code",
   "execution_count": null,
   "metadata": {},
   "outputs": [],
   "source": []
  },
  {
   "cell_type": "code",
   "execution_count": null,
   "metadata": {},
   "outputs": [],
   "source": []
  },
  {
   "cell_type": "code",
   "execution_count": null,
   "metadata": {},
   "outputs": [],
   "source": []
  },
  {
   "cell_type": "code",
   "execution_count": null,
   "metadata": {},
   "outputs": [],
   "source": []
  },
  {
   "cell_type": "code",
   "execution_count": null,
   "metadata": {},
   "outputs": [],
   "source": []
  },
  {
   "cell_type": "code",
   "execution_count": null,
   "metadata": {},
   "outputs": [],
   "source": []
  },
  {
   "cell_type": "code",
   "execution_count": null,
   "metadata": {},
   "outputs": [],
   "source": []
  },
  {
   "cell_type": "code",
   "execution_count": null,
   "metadata": {},
   "outputs": [],
   "source": []
  },
  {
   "cell_type": "code",
   "execution_count": null,
   "metadata": {},
   "outputs": [],
   "source": []
  },
  {
   "cell_type": "code",
   "execution_count": null,
   "metadata": {},
   "outputs": [],
   "source": []
  },
  {
   "cell_type": "code",
   "execution_count": null,
   "metadata": {},
   "outputs": [],
   "source": []
  }
 ],
 "metadata": {
  "kernelspec": {
   "display_name": "Python 3",
   "language": "python",
   "name": "python3"
  },
  "language_info": {
   "codemirror_mode": {
    "name": "ipython",
    "version": 3
   },
   "file_extension": ".py",
   "mimetype": "text/x-python",
   "name": "python",
   "nbconvert_exporter": "python",
   "pygments_lexer": "ipython3",
   "version": "3.8.10"
  }
 },
 "nbformat": 4,
 "nbformat_minor": 4
}

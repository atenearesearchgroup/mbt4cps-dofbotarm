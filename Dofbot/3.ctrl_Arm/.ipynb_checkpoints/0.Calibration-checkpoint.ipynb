{
 "cells": [
  {
   "cell_type": "code",
   "execution_count": 9,
   "metadata": {},
   "outputs": [],
   "source": [
    "#!/usr/bin/env python3\n",
    "#coding=utf-8\n",
    "import time\n",
    "from Arm_Lib import Arm_Device\n",
    " \n",
    "# Create a robotic arm object\n",
    "Arm = Arm_Device()\n",
    "time.sleep(.1)"
   ]
  },
  {
   "cell_type": "code",
   "execution_count": 10,
   "metadata": {},
   "outputs": [],
   "source": [
    "# Middle servo\n",
    "Arm.Arm_serial_servo_write6(90, 90, 90, 90, 90, 180, 1000)\n",
    "time.sleep(2)"
   ]
  },
  {
   "cell_type": "code",
   "execution_count": 11,
   "metadata": {},
   "outputs": [],
   "source": [
    "# Turn off the torque, we can manually change the angle of all servos of the robotic arm \n",
    "Arm.Arm_serial_set_torque(0)"
   ]
  },
  {
   "cell_type": "code",
   "execution_count": 4,
   "metadata": {},
   "outputs": [
    {
     "name": "stdout",
     "output_type": "stream",
     "text": [
      "set offset ok!\n"
     ]
    }
   ],
   "source": [
    "# After adjusting the angle of a certain servo, you can set the median deviation of a certain servo separately\n",
    "id = 6\n",
    "Arm.Arm_serial_servo_write_offset_switch(id)\n",
    "time.sleep(.1)\n",
    "state = Arm.Arm_serial_servo_write_offset_state()\n",
    "if state == 1:\n",
    "    print(\"set offset ok!\")\n",
    "elif state == 2:\n",
    "    print(\"error! set offset overrun !\")\n",
    "elif state == 0:\n",
    "    print(\"error! set offset error !\")"
   ]
  },
  {
   "cell_type": "code",
   "execution_count": 5,
   "metadata": {},
   "outputs": [
    {
     "name": "stdout",
     "output_type": "stream",
     "text": [
      "id:1 set offset ok!\n",
      "id:2 set offset ok!\n",
      "id:3 set offset ok!\n",
      "id:4 set offset ok!\n",
      "id:5 set offset ok!\n",
      "id:6 set offset ok!\n"
     ]
    }
   ],
   "source": [
    "# Set the median deviation of all servos (No.1-6)\n",
    "for i in range(6):\n",
    "    id = i + 1\n",
    "    Arm.Arm_serial_servo_write_offset_switch(id)\n",
    "    time.sleep(.1)\n",
    "    state = Arm.Arm_serial_servo_write_offset_state()\n",
    "    if state == 1:\n",
    "        print(\"id:%d set offset ok!\" % id)\n",
    "    elif state == 2:\n",
    "        print(\"error!id:%d set offset overrun !\" % id)\n",
    "    elif state == 0:\n",
    "        print(\"error!id:%d set offset error !\" % id)"
   ]
  },
  {
   "cell_type": "code",
   "execution_count": 6,
   "metadata": {},
   "outputs": [],
   "source": [
    "# After the adjustment is complete, turn on the torque\n",
    "Arm.Arm_serial_set_torque(1)"
   ]
  },
  {
   "cell_type": "code",
   "execution_count": 7,
   "metadata": {},
   "outputs": [],
   "source": [
    "# Clear the median deviation of all servo settings and restore the default state.\n",
    "# If you need to clear the median deviation of all servos, please delete the # below and run this unit\n",
    "Arm.Arm_serial_servo_write_offset_switch(0)"
   ]
  },
  {
   "cell_type": "code",
   "execution_count": 8,
   "metadata": {},
   "outputs": [],
   "source": [
    "del Arm  # Release the Arm object"
   ]
  },
  {
   "cell_type": "code",
   "execution_count": null,
   "metadata": {},
   "outputs": [],
   "source": []
  }
 ],
 "metadata": {
  "kernelspec": {
   "display_name": "Python 3",
   "language": "python",
   "name": "python3"
  },
  "language_info": {
   "codemirror_mode": {
    "name": "ipython",
    "version": 3
   },
   "file_extension": ".py",
   "mimetype": "text/x-python",
   "name": "python",
   "nbconvert_exporter": "python",
   "pygments_lexer": "ipython3",
   "version": "3.8.5"
  }
 },
 "nbformat": 4,
 "nbformat_minor": 4
}

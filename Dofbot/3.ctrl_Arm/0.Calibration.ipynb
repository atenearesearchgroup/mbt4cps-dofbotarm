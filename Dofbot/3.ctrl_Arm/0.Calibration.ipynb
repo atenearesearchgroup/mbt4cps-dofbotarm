{
 "cells": [
  {
   "cell_type": "code",
   "execution_count": 1,
   "metadata": {},
   "outputs": [],
   "source": [
    "#!/usr/bin/env python3\n",
    "#coding=utf-8\n",
    "import time\n",
    "from Arm_Lib import Arm_Device\n",
    " \n",
    "# Create a robotic arm object\n",
    "Arm = Arm_Device()\n",
    "time.sleep(.1)"
   ]
  },
  {
   "cell_type": "code",
   "execution_count": 3,
   "metadata": {},
   "outputs": [
    {
     "name": "stdout",
     "output_type": "stream",
     "text": [
      "0.0\n"
     ]
    }
   ],
   "source": [
    "print(0/1000)"
   ]
  },
  {
   "cell_type": "code",
   "execution_count": 2,
   "metadata": {},
   "outputs": [
    {
     "name": "stdout",
     "output_type": "stream",
     "text": [
      "2.0152809619903564\n",
      "2015.2809619903564\n",
      "2015\n",
      "1643366882.1081896\n",
      "1643366884.1234705\n"
     ]
    }
   ],
   "source": [
    "# Middle servo\n",
    "#Arm.Arm_serial_servo_write6(44, 66, 20, 28, 270, 0, 2000) #Blue\n",
    "#Arm.Arm_serial_servo_write6(116, 19, 67, 57, 269, 0, 2000) #Red\n",
    "#Arm.Arm_serial_servo_write6(90, 53, 33, 36, 270, 0, 2000) #Center\n",
    "#Arm.Arm_serial_servo_write6(90, 80, 50, 50, 270, 0, 2000)  #Up\n",
    "start = time.time()\n",
    "\n",
    "Arm.Arm_serial_servo_write6(90, 90, 90, 90, 90, 0, 2000)\n",
    "time.sleep(2)\n",
    "\n",
    "end = time.time()\n",
    "\n",
    "print(end-start)\n",
    "print((end-start)*1000)\n",
    "print(int((end-start)*1000))\n",
    "print(start)\n",
    "print(end)"
   ]
  },
  {
   "cell_type": "code",
   "execution_count": 76,
   "metadata": {},
   "outputs": [],
   "source": [
    "# Turn off the torque, we can manually change the angle of all servos of the robotic arm \n",
    "Arm.Arm_serial_set_torque(0)"
   ]
  },
  {
   "cell_type": "code",
   "execution_count": 17,
   "metadata": {},
   "outputs": [
    {
     "name": "stdout",
     "output_type": "stream",
     "text": [
      "set offset ok!\n"
     ]
    }
   ],
   "source": [
    "# After adjusting the angle of a certain servo, you can set the median deviation of a certain servo separately\n",
    "id = 6\n",
    "Arm.Arm_serial_servo_write_offset_switch(id)\n",
    "time.sleep(.1)\n",
    "state = Arm.Arm_serial_servo_write_offset_state()\n",
    "if state == 1:\n",
    "    print(\"set offset ok!\")\n",
    "elif state == 2:\n",
    "    print(\"error! set offset overrun !\")\n",
    "elif state == 0:\n",
    "    print(\"error! set offset error !\")"
   ]
  },
  {
   "cell_type": "code",
   "execution_count": 18,
   "metadata": {},
   "outputs": [
    {
     "name": "stdout",
     "output_type": "stream",
     "text": [
      "id:1 set offset ok!\n",
      "id:2 set offset ok!\n",
      "id:3 set offset ok!\n",
      "id:4 set offset ok!\n",
      "id:5 set offset ok!\n",
      "id:6 set offset ok!\n"
     ]
    }
   ],
   "source": [
    "# Set the median deviation of all servos (No.1-6)\n",
    "for i in range(6):\n",
    "    id = i + 1\n",
    "    Arm.Arm_serial_servo_write_offset_switch(id)\n",
    "    time.sleep(.1)\n",
    "    state = Arm.Arm_serial_servo_write_offset_state()\n",
    "    if state == 1:\n",
    "        print(\"id:%d set offset ok!\" % id)\n",
    "    elif state == 2:\n",
    "        print(\"error!id:%d set offset overrun !\" % id)\n",
    "    elif state == 0:\n",
    "        print(\"error!id:%d set offset error !\" % id)"
   ]
  },
  {
   "cell_type": "code",
   "execution_count": 77,
   "metadata": {},
   "outputs": [],
   "source": [
    "# After the adjustment is complete, turn on the torque\n",
    "Arm.Arm_serial_set_torque(1)"
   ]
  },
  {
   "cell_type": "code",
   "execution_count": 20,
   "metadata": {},
   "outputs": [],
   "source": [
    "# Clear the median deviation of all servo settings and restore the default state.\n",
    "# If you need to clear the median deviation of all servos, please delete the # below and run this unit\n",
    "Arm.Arm_serial_servo_write_offset_switch(0)"
   ]
  },
  {
   "cell_type": "code",
   "execution_count": 61,
   "metadata": {},
   "outputs": [],
   "source": [
    "del Arm  # Release the Arm object"
   ]
  },
  {
   "cell_type": "code",
   "execution_count": null,
   "metadata": {},
   "outputs": [],
   "source": []
  }
 ],
 "metadata": {
  "kernelspec": {
   "display_name": "Python 3",
   "language": "python",
   "name": "python3"
  },
  "language_info": {
   "codemirror_mode": {
    "name": "ipython",
    "version": 3
   },
   "file_extension": ".py",
   "mimetype": "text/x-python",
   "name": "python",
   "nbconvert_exporter": "python",
   "pygments_lexer": "ipython3",
   "version": "3.8.10"
  }
 },
 "nbformat": 4,
 "nbformat_minor": 4
}

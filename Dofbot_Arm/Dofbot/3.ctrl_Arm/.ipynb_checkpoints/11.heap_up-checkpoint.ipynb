{
 "cells": [
  {
   "cell_type": "code",
   "execution_count": null,
   "metadata": {},
   "outputs": [],
   "source": [
    "#!/usr/bin/env python3\n",
    "#coding=utf-8\n",
    "import time\n",
    "from Arm_Lib import Arm_Device\n",
    "\n",
    "Arm = Arm_Device()\n",
    "time.sleep(.1)"
   ]
  },
  {
   "cell_type": "code",
   "execution_count": null,
   "metadata": {},
   "outputs": [],
   "source": [
    "# enable=1：clip close，=0：clip open\n",
    "def arm_clamp_block(enable):\n",
    "    if enable == 0:\n",
    "        Arm.Arm_serial_servo_write(6, 60, 400)\n",
    "    else:\n",
    "        Arm.Arm_serial_servo_write(6, 135, 400)\n",
    "    time.sleep(.5)\n",
    "\n",
    "    \n",
    "# Control the movement of No.1-5 servos at the same time, p=[S1,S2,S3,S4,S5]\n",
    "def arm_move(p, s_time = 500):\n",
    "    for i in range(5):\n",
    "        id = i + 1\n",
    "        if id == 5:\n",
    "            time.sleep(.1)\n",
    "            Arm.Arm_serial_servo_write(id, p[i], int(s_time*1.2))\n",
    "        elif id == 1 :\n",
    "            Arm.Arm_serial_servo_write(id, p[i], int(3*s_time/4))\n",
    "\n",
    "        else:\n",
    "            Arm.Arm_serial_servo_write(id, p[i], int(s_time))\n",
    "        time.sleep(.01)\n",
    "    time.sleep(s_time/1000)\n"
   ]
  },
  {
   "cell_type": "code",
   "execution_count": null,
   "metadata": {},
   "outputs": [],
   "source": [
    "# Define variable parameters at different locations\n",
    "p_mould = [90, 130, 0, 0, 90]\n",
    "p_top = [90, 80, 50, 50, 270]\n",
    "\n",
    "\n",
    "p_layer_4 = [90, 76, 40, 17, 270]\n",
    "p_layer_3 = [90, 65, 44, 17, 270]\n",
    "p_layer_2 = [90, 65, 25, 36, 270]\n",
    "p_layer_1 = [90, 48, 35, 30, 270]\n",
    "\n",
    "p_Yellow = [65, 22, 64, 56, 270]\n",
    "p_Red = [118, 19, 66, 56, 270]\n",
    "\n",
    "p_Green = [136, 66, 20, 29, 270]\n",
    "p_Blue = [44, 66, 20, 28, 270]\n"
   ]
  },
  {
   "cell_type": "code",
   "execution_count": null,
   "metadata": {},
   "outputs": [],
   "source": [
    "#  Make the robotic arm move to a position ready to grab\n",
    "arm_clamp_block(0)\n",
    "arm_move(p_mould, 1000)\n",
    "time.sleep(1)\n"
   ]
  },
  {
   "cell_type": "code",
   "execution_count": null,
   "metadata": {},
   "outputs": [],
   "source": [
    "# Move the block in the yellow area to the first layer in the middle area on map\n",
    "arm_move(p_top, 1000)\n",
    "arm_move(p_Yellow, 1000)\n",
    "arm_clamp_block(1)\n",
    "\n",
    "arm_move(p_top, 1000)\n",
    "arm_move(p_layer_1, 1000)\n",
    "arm_clamp_block(0)\n",
    "\n",
    "time.sleep(.1)\n",
    "\n",
    "arm_move(p_mould, 1100)\n",
    "    \n",
    "# time.sleep(1)\n"
   ]
  },
  {
   "cell_type": "code",
   "execution_count": null,
   "metadata": {},
   "outputs": [],
   "source": [
    "# Move the block in the red area to the second layer in the middle area on map\n",
    "arm_move(p_top, 1000)\n",
    "arm_move(p_Red, 1000)\n",
    "arm_clamp_block(1)\n",
    "\n",
    "arm_move(p_top, 1000)\n",
    "arm_move(p_layer_2, 1000)\n",
    "arm_clamp_block(0)\n",
    "\n",
    "time.sleep(.1)\n",
    "\n",
    "arm_move(p_mould, 1100)\n",
    "\n",
    "# time.sleep(1)\n"
   ]
  },
  {
   "cell_type": "code",
   "execution_count": null,
   "metadata": {},
   "outputs": [],
   "source": [
    "# Move the block in the green area to the third layer in the middle area on map\n",
    "arm_move(p_top, 1000)\n",
    "arm_move(p_Green, 1000)\n",
    "arm_clamp_block(1)\n",
    "\n",
    "arm_move(p_top, 1000)\n",
    "arm_move(p_layer_3, 1000)\n",
    "arm_clamp_block(0)\n",
    "\n",
    "time.sleep(.1)\n",
    "\n",
    "arm_move(p_mould, 1100)\n",
    "    \n",
    "# time.sleep(1)\n"
   ]
  },
  {
   "cell_type": "code",
   "execution_count": null,
   "metadata": {},
   "outputs": [],
   "source": [
    "#  Move the block in the blue area to the fourth layer in the middle area on map\n",
    "arm_move(p_top, 1000)\n",
    "arm_move(p_Blue, 1000)\n",
    "\n",
    "arm_clamp_block(1)\n",
    "\n",
    "arm_move(p_top, 1000)\n",
    "arm_move(p_layer_4, 1000)\n",
    "arm_clamp_block(0)\n",
    "\n",
    "time.sleep(.1)\n",
    "\n",
    "arm_move(p_mould, 1100)\n",
    "    \n",
    "# time.sleep(1)"
   ]
  },
  {
   "cell_type": "code",
   "execution_count": null,
   "metadata": {},
   "outputs": [],
   "source": [
    "del Arm  # Release"
   ]
  },
  {
   "cell_type": "code",
   "execution_count": null,
   "metadata": {},
   "outputs": [],
   "source": []
  }
 ],
 "metadata": {
  "kernelspec": {
   "display_name": "Python 3",
   "language": "python",
   "name": "python3"
  },
  "language_info": {
   "codemirror_mode": {
    "name": "ipython",
    "version": 3
   },
   "file_extension": ".py",
   "mimetype": "text/x-python",
   "name": "python",
   "nbconvert_exporter": "python",
   "pygments_lexer": "ipython3",
   "version": "3.8.5"
  }
 },
 "nbformat": 4,
 "nbformat_minor": 4
}
